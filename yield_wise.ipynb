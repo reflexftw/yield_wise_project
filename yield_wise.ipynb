{
 "cells": [
  {
   "cell_type": "markdown",
   "id": "dedfb701-bf6a-49bc-a42d-6f5ccd15107c",
   "metadata": {},
   "source": [
    "Importing Essential Libraries"
   ]
  },
  {
   "cell_type": "code",
   "execution_count": 35,
   "id": "e73ade51-fae4-4790-b6ec-c2c8626155b3",
   "metadata": {},
   "outputs": [],
   "source": [
    "import pandas as pd\n",
    "import matplotlib.pyplot as plt\n",
    "import numpy as np"
   ]
  },
  {
   "cell_type": "code",
   "execution_count": null,
   "id": "d81ed5f9-c1e8-4490-93f6-d0b7c7a061dc",
   "metadata": {},
   "outputs": [],
   "source": []
  },
  {
   "cell_type": "code",
   "execution_count": 36,
   "id": "22ca10e1-c13d-4674-be7e-d7f07101ed48",
   "metadata": {},
   "outputs": [],
   "source": [
    "df = pd.read_csv(\"./yield_df.csv\")"
   ]
  },
  {
   "cell_type": "code",
   "execution_count": 37,
   "id": "52c7b36f-0815-43b1-96a7-54436fef5c5a",
   "metadata": {},
   "outputs": [
    {
     "data": {
      "text/html": [
       "<div>\n",
       "<style scoped>\n",
       "    .dataframe tbody tr th:only-of-type {\n",
       "        vertical-align: middle;\n",
       "    }\n",
       "\n",
       "    .dataframe tbody tr th {\n",
       "        vertical-align: top;\n",
       "    }\n",
       "\n",
       "    .dataframe thead th {\n",
       "        text-align: right;\n",
       "    }\n",
       "</style>\n",
       "<table border=\"1\" class=\"dataframe\">\n",
       "  <thead>\n",
       "    <tr style=\"text-align: right;\">\n",
       "      <th></th>\n",
       "      <th>Unnamed: 0</th>\n",
       "      <th>Area</th>\n",
       "      <th>Item</th>\n",
       "      <th>Year</th>\n",
       "      <th>hg/ha_yield</th>\n",
       "      <th>average_rain_fall_mm_per_year</th>\n",
       "      <th>pesticides_tonnes</th>\n",
       "      <th>avg_temp</th>\n",
       "    </tr>\n",
       "  </thead>\n",
       "  <tbody>\n",
       "    <tr>\n",
       "      <th>0</th>\n",
       "      <td>0</td>\n",
       "      <td>Albania</td>\n",
       "      <td>Maize</td>\n",
       "      <td>1990</td>\n",
       "      <td>36613</td>\n",
       "      <td>1485.0</td>\n",
       "      <td>121.0</td>\n",
       "      <td>16.37</td>\n",
       "    </tr>\n",
       "    <tr>\n",
       "      <th>1</th>\n",
       "      <td>1</td>\n",
       "      <td>Albania</td>\n",
       "      <td>Potatoes</td>\n",
       "      <td>1990</td>\n",
       "      <td>66667</td>\n",
       "      <td>1485.0</td>\n",
       "      <td>121.0</td>\n",
       "      <td>16.37</td>\n",
       "    </tr>\n",
       "    <tr>\n",
       "      <th>2</th>\n",
       "      <td>2</td>\n",
       "      <td>Albania</td>\n",
       "      <td>Rice, paddy</td>\n",
       "      <td>1990</td>\n",
       "      <td>23333</td>\n",
       "      <td>1485.0</td>\n",
       "      <td>121.0</td>\n",
       "      <td>16.37</td>\n",
       "    </tr>\n",
       "    <tr>\n",
       "      <th>3</th>\n",
       "      <td>3</td>\n",
       "      <td>Albania</td>\n",
       "      <td>Sorghum</td>\n",
       "      <td>1990</td>\n",
       "      <td>12500</td>\n",
       "      <td>1485.0</td>\n",
       "      <td>121.0</td>\n",
       "      <td>16.37</td>\n",
       "    </tr>\n",
       "    <tr>\n",
       "      <th>4</th>\n",
       "      <td>4</td>\n",
       "      <td>Albania</td>\n",
       "      <td>Soybeans</td>\n",
       "      <td>1990</td>\n",
       "      <td>7000</td>\n",
       "      <td>1485.0</td>\n",
       "      <td>121.0</td>\n",
       "      <td>16.37</td>\n",
       "    </tr>\n",
       "  </tbody>\n",
       "</table>\n",
       "</div>"
      ],
      "text/plain": [
       "   Unnamed: 0     Area         Item  Year  hg/ha_yield  \\\n",
       "0           0  Albania        Maize  1990        36613   \n",
       "1           1  Albania     Potatoes  1990        66667   \n",
       "2           2  Albania  Rice, paddy  1990        23333   \n",
       "3           3  Albania      Sorghum  1990        12500   \n",
       "4           4  Albania     Soybeans  1990         7000   \n",
       "\n",
       "   average_rain_fall_mm_per_year  pesticides_tonnes  avg_temp  \n",
       "0                         1485.0              121.0     16.37  \n",
       "1                         1485.0              121.0     16.37  \n",
       "2                         1485.0              121.0     16.37  \n",
       "3                         1485.0              121.0     16.37  \n",
       "4                         1485.0              121.0     16.37  "
      ]
     },
     "execution_count": 37,
     "metadata": {},
     "output_type": "execute_result"
    }
   ],
   "source": [
    "df.head()"
   ]
  },
  {
   "cell_type": "code",
   "execution_count": 38,
   "id": "9574c739-a4a3-4444-b858-e8c7d16b8738",
   "metadata": {},
   "outputs": [],
   "source": [
    "df.drop(\"Unnamed: 0\", axis=1,inplace=True)"
   ]
  },
  {
   "cell_type": "code",
   "execution_count": 39,
   "id": "b04463d1-3890-4651-bc3c-f7666ee93f63",
   "metadata": {},
   "outputs": [
    {
     "data": {
      "text/html": [
       "<div>\n",
       "<style scoped>\n",
       "    .dataframe tbody tr th:only-of-type {\n",
       "        vertical-align: middle;\n",
       "    }\n",
       "\n",
       "    .dataframe tbody tr th {\n",
       "        vertical-align: top;\n",
       "    }\n",
       "\n",
       "    .dataframe thead th {\n",
       "        text-align: right;\n",
       "    }\n",
       "</style>\n",
       "<table border=\"1\" class=\"dataframe\">\n",
       "  <thead>\n",
       "    <tr style=\"text-align: right;\">\n",
       "      <th></th>\n",
       "      <th>Area</th>\n",
       "      <th>Item</th>\n",
       "      <th>Year</th>\n",
       "      <th>hg/ha_yield</th>\n",
       "      <th>average_rain_fall_mm_per_year</th>\n",
       "      <th>pesticides_tonnes</th>\n",
       "      <th>avg_temp</th>\n",
       "    </tr>\n",
       "  </thead>\n",
       "  <tbody>\n",
       "    <tr>\n",
       "      <th>0</th>\n",
       "      <td>Albania</td>\n",
       "      <td>Maize</td>\n",
       "      <td>1990</td>\n",
       "      <td>36613</td>\n",
       "      <td>1485.0</td>\n",
       "      <td>121.0</td>\n",
       "      <td>16.37</td>\n",
       "    </tr>\n",
       "    <tr>\n",
       "      <th>1</th>\n",
       "      <td>Albania</td>\n",
       "      <td>Potatoes</td>\n",
       "      <td>1990</td>\n",
       "      <td>66667</td>\n",
       "      <td>1485.0</td>\n",
       "      <td>121.0</td>\n",
       "      <td>16.37</td>\n",
       "    </tr>\n",
       "    <tr>\n",
       "      <th>2</th>\n",
       "      <td>Albania</td>\n",
       "      <td>Rice, paddy</td>\n",
       "      <td>1990</td>\n",
       "      <td>23333</td>\n",
       "      <td>1485.0</td>\n",
       "      <td>121.0</td>\n",
       "      <td>16.37</td>\n",
       "    </tr>\n",
       "    <tr>\n",
       "      <th>3</th>\n",
       "      <td>Albania</td>\n",
       "      <td>Sorghum</td>\n",
       "      <td>1990</td>\n",
       "      <td>12500</td>\n",
       "      <td>1485.0</td>\n",
       "      <td>121.0</td>\n",
       "      <td>16.37</td>\n",
       "    </tr>\n",
       "    <tr>\n",
       "      <th>4</th>\n",
       "      <td>Albania</td>\n",
       "      <td>Soybeans</td>\n",
       "      <td>1990</td>\n",
       "      <td>7000</td>\n",
       "      <td>1485.0</td>\n",
       "      <td>121.0</td>\n",
       "      <td>16.37</td>\n",
       "    </tr>\n",
       "  </tbody>\n",
       "</table>\n",
       "</div>"
      ],
      "text/plain": [
       "      Area         Item  Year  hg/ha_yield  average_rain_fall_mm_per_year  \\\n",
       "0  Albania        Maize  1990        36613                         1485.0   \n",
       "1  Albania     Potatoes  1990        66667                         1485.0   \n",
       "2  Albania  Rice, paddy  1990        23333                         1485.0   \n",
       "3  Albania      Sorghum  1990        12500                         1485.0   \n",
       "4  Albania     Soybeans  1990         7000                         1485.0   \n",
       "\n",
       "   pesticides_tonnes  avg_temp  \n",
       "0              121.0     16.37  \n",
       "1              121.0     16.37  \n",
       "2              121.0     16.37  \n",
       "3              121.0     16.37  \n",
       "4              121.0     16.37  "
      ]
     },
     "execution_count": 39,
     "metadata": {},
     "output_type": "execute_result"
    }
   ],
   "source": [
    "df.head()"
   ]
  },
  {
   "cell_type": "code",
   "execution_count": 40,
   "id": "b4431b8d-a441-42c9-8833-3e8eb0f112dc",
   "metadata": {},
   "outputs": [
    {
     "data": {
      "text/plain": [
       "np.int64(2310)"
      ]
     },
     "execution_count": 40,
     "metadata": {},
     "output_type": "execute_result"
    }
   ],
   "source": [
    "df.duplicated().sum()"
   ]
  },
  {
   "cell_type": "code",
   "execution_count": 41,
   "id": "f899a414-e4aa-4054-8860-0f27c574564e",
   "metadata": {},
   "outputs": [],
   "source": [
    "df.drop_duplicates(inplace=True)"
   ]
  },
  {
   "cell_type": "code",
   "execution_count": 42,
   "id": "c264b9ea-f0db-4a74-8c51-97ff723b8e46",
   "metadata": {},
   "outputs": [
    {
     "data": {
      "text/plain": [
       "np.int64(0)"
      ]
     },
     "execution_count": 42,
     "metadata": {},
     "output_type": "execute_result"
    }
   ],
   "source": [
    "df.duplicated().sum()"
   ]
  },
  {
   "cell_type": "code",
   "execution_count": 43,
   "id": "b6ebe175-c2f5-477e-8528-bc3672774b74",
   "metadata": {},
   "outputs": [
    {
     "data": {
      "text/html": [
       "<div>\n",
       "<style scoped>\n",
       "    .dataframe tbody tr th:only-of-type {\n",
       "        vertical-align: middle;\n",
       "    }\n",
       "\n",
       "    .dataframe tbody tr th {\n",
       "        vertical-align: top;\n",
       "    }\n",
       "\n",
       "    .dataframe thead th {\n",
       "        text-align: right;\n",
       "    }\n",
       "</style>\n",
       "<table border=\"1\" class=\"dataframe\">\n",
       "  <thead>\n",
       "    <tr style=\"text-align: right;\">\n",
       "      <th></th>\n",
       "      <th>Area</th>\n",
       "      <th>Item</th>\n",
       "      <th>Year</th>\n",
       "      <th>hg/ha_yield</th>\n",
       "      <th>average_rain_fall_mm_per_year</th>\n",
       "      <th>pesticides_tonnes</th>\n",
       "      <th>avg_temp</th>\n",
       "    </tr>\n",
       "  </thead>\n",
       "  <tbody>\n",
       "    <tr>\n",
       "      <th>0</th>\n",
       "      <td>Albania</td>\n",
       "      <td>Maize</td>\n",
       "      <td>1990</td>\n",
       "      <td>36613</td>\n",
       "      <td>1485.0</td>\n",
       "      <td>121.0</td>\n",
       "      <td>16.37</td>\n",
       "    </tr>\n",
       "    <tr>\n",
       "      <th>1</th>\n",
       "      <td>Albania</td>\n",
       "      <td>Potatoes</td>\n",
       "      <td>1990</td>\n",
       "      <td>66667</td>\n",
       "      <td>1485.0</td>\n",
       "      <td>121.0</td>\n",
       "      <td>16.37</td>\n",
       "    </tr>\n",
       "    <tr>\n",
       "      <th>2</th>\n",
       "      <td>Albania</td>\n",
       "      <td>Rice, paddy</td>\n",
       "      <td>1990</td>\n",
       "      <td>23333</td>\n",
       "      <td>1485.0</td>\n",
       "      <td>121.0</td>\n",
       "      <td>16.37</td>\n",
       "    </tr>\n",
       "    <tr>\n",
       "      <th>3</th>\n",
       "      <td>Albania</td>\n",
       "      <td>Sorghum</td>\n",
       "      <td>1990</td>\n",
       "      <td>12500</td>\n",
       "      <td>1485.0</td>\n",
       "      <td>121.0</td>\n",
       "      <td>16.37</td>\n",
       "    </tr>\n",
       "    <tr>\n",
       "      <th>4</th>\n",
       "      <td>Albania</td>\n",
       "      <td>Soybeans</td>\n",
       "      <td>1990</td>\n",
       "      <td>7000</td>\n",
       "      <td>1485.0</td>\n",
       "      <td>121.0</td>\n",
       "      <td>16.37</td>\n",
       "    </tr>\n",
       "  </tbody>\n",
       "</table>\n",
       "</div>"
      ],
      "text/plain": [
       "      Area         Item  Year  hg/ha_yield  average_rain_fall_mm_per_year  \\\n",
       "0  Albania        Maize  1990        36613                         1485.0   \n",
       "1  Albania     Potatoes  1990        66667                         1485.0   \n",
       "2  Albania  Rice, paddy  1990        23333                         1485.0   \n",
       "3  Albania      Sorghum  1990        12500                         1485.0   \n",
       "4  Albania     Soybeans  1990         7000                         1485.0   \n",
       "\n",
       "   pesticides_tonnes  avg_temp  \n",
       "0              121.0     16.37  \n",
       "1              121.0     16.37  \n",
       "2              121.0     16.37  \n",
       "3              121.0     16.37  \n",
       "4              121.0     16.37  "
      ]
     },
     "execution_count": 43,
     "metadata": {},
     "output_type": "execute_result"
    }
   ],
   "source": [
    "df.head()"
   ]
  },
  {
   "cell_type": "code",
   "execution_count": 44,
   "id": "46954a60-2407-4576-bc48-6bd6893a365f",
   "metadata": {},
   "outputs": [],
   "source": [
    "def isStr(obj):\n",
    "    try:\n",
    "        float(obj)\n",
    "        return False\n",
    "    except:\n",
    "        return True\n",
    "to_drop = df[df['average_rain_fall_mm_per_year'].apply(isStr)].index"
   ]
  },
  {
   "cell_type": "code",
   "execution_count": 45,
   "id": "859146aa-bddd-45be-903c-3d55bbb79f61",
   "metadata": {},
   "outputs": [],
   "source": [
    "df = df.drop(to_drop)"
   ]
  },
  {
   "cell_type": "code",
   "execution_count": 46,
   "id": "969b11be-3b9b-4aa1-bad6-871c703d2c1c",
   "metadata": {},
   "outputs": [
    {
     "data": {
      "text/html": [
       "<div>\n",
       "<style scoped>\n",
       "    .dataframe tbody tr th:only-of-type {\n",
       "        vertical-align: middle;\n",
       "    }\n",
       "\n",
       "    .dataframe tbody tr th {\n",
       "        vertical-align: top;\n",
       "    }\n",
       "\n",
       "    .dataframe thead th {\n",
       "        text-align: right;\n",
       "    }\n",
       "</style>\n",
       "<table border=\"1\" class=\"dataframe\">\n",
       "  <thead>\n",
       "    <tr style=\"text-align: right;\">\n",
       "      <th></th>\n",
       "      <th>Area</th>\n",
       "      <th>Item</th>\n",
       "      <th>Year</th>\n",
       "      <th>hg/ha_yield</th>\n",
       "      <th>average_rain_fall_mm_per_year</th>\n",
       "      <th>pesticides_tonnes</th>\n",
       "      <th>avg_temp</th>\n",
       "    </tr>\n",
       "  </thead>\n",
       "  <tbody>\n",
       "    <tr>\n",
       "      <th>0</th>\n",
       "      <td>Albania</td>\n",
       "      <td>Maize</td>\n",
       "      <td>1990</td>\n",
       "      <td>36613</td>\n",
       "      <td>1485.0</td>\n",
       "      <td>121.00</td>\n",
       "      <td>16.37</td>\n",
       "    </tr>\n",
       "    <tr>\n",
       "      <th>1</th>\n",
       "      <td>Albania</td>\n",
       "      <td>Potatoes</td>\n",
       "      <td>1990</td>\n",
       "      <td>66667</td>\n",
       "      <td>1485.0</td>\n",
       "      <td>121.00</td>\n",
       "      <td>16.37</td>\n",
       "    </tr>\n",
       "    <tr>\n",
       "      <th>2</th>\n",
       "      <td>Albania</td>\n",
       "      <td>Rice, paddy</td>\n",
       "      <td>1990</td>\n",
       "      <td>23333</td>\n",
       "      <td>1485.0</td>\n",
       "      <td>121.00</td>\n",
       "      <td>16.37</td>\n",
       "    </tr>\n",
       "    <tr>\n",
       "      <th>3</th>\n",
       "      <td>Albania</td>\n",
       "      <td>Sorghum</td>\n",
       "      <td>1990</td>\n",
       "      <td>12500</td>\n",
       "      <td>1485.0</td>\n",
       "      <td>121.00</td>\n",
       "      <td>16.37</td>\n",
       "    </tr>\n",
       "    <tr>\n",
       "      <th>4</th>\n",
       "      <td>Albania</td>\n",
       "      <td>Soybeans</td>\n",
       "      <td>1990</td>\n",
       "      <td>7000</td>\n",
       "      <td>1485.0</td>\n",
       "      <td>121.00</td>\n",
       "      <td>16.37</td>\n",
       "    </tr>\n",
       "    <tr>\n",
       "      <th>...</th>\n",
       "      <td>...</td>\n",
       "      <td>...</td>\n",
       "      <td>...</td>\n",
       "      <td>...</td>\n",
       "      <td>...</td>\n",
       "      <td>...</td>\n",
       "      <td>...</td>\n",
       "    </tr>\n",
       "    <tr>\n",
       "      <th>28237</th>\n",
       "      <td>Zimbabwe</td>\n",
       "      <td>Rice, paddy</td>\n",
       "      <td>2013</td>\n",
       "      <td>22581</td>\n",
       "      <td>657.0</td>\n",
       "      <td>2550.07</td>\n",
       "      <td>19.76</td>\n",
       "    </tr>\n",
       "    <tr>\n",
       "      <th>28238</th>\n",
       "      <td>Zimbabwe</td>\n",
       "      <td>Sorghum</td>\n",
       "      <td>2013</td>\n",
       "      <td>3066</td>\n",
       "      <td>657.0</td>\n",
       "      <td>2550.07</td>\n",
       "      <td>19.76</td>\n",
       "    </tr>\n",
       "    <tr>\n",
       "      <th>28239</th>\n",
       "      <td>Zimbabwe</td>\n",
       "      <td>Soybeans</td>\n",
       "      <td>2013</td>\n",
       "      <td>13142</td>\n",
       "      <td>657.0</td>\n",
       "      <td>2550.07</td>\n",
       "      <td>19.76</td>\n",
       "    </tr>\n",
       "    <tr>\n",
       "      <th>28240</th>\n",
       "      <td>Zimbabwe</td>\n",
       "      <td>Sweet potatoes</td>\n",
       "      <td>2013</td>\n",
       "      <td>22222</td>\n",
       "      <td>657.0</td>\n",
       "      <td>2550.07</td>\n",
       "      <td>19.76</td>\n",
       "    </tr>\n",
       "    <tr>\n",
       "      <th>28241</th>\n",
       "      <td>Zimbabwe</td>\n",
       "      <td>Wheat</td>\n",
       "      <td>2013</td>\n",
       "      <td>22888</td>\n",
       "      <td>657.0</td>\n",
       "      <td>2550.07</td>\n",
       "      <td>19.76</td>\n",
       "    </tr>\n",
       "  </tbody>\n",
       "</table>\n",
       "<p>25932 rows × 7 columns</p>\n",
       "</div>"
      ],
      "text/plain": [
       "           Area            Item  Year  hg/ha_yield  \\\n",
       "0       Albania           Maize  1990        36613   \n",
       "1       Albania        Potatoes  1990        66667   \n",
       "2       Albania     Rice, paddy  1990        23333   \n",
       "3       Albania         Sorghum  1990        12500   \n",
       "4       Albania        Soybeans  1990         7000   \n",
       "...         ...             ...   ...          ...   \n",
       "28237  Zimbabwe     Rice, paddy  2013        22581   \n",
       "28238  Zimbabwe         Sorghum  2013         3066   \n",
       "28239  Zimbabwe        Soybeans  2013        13142   \n",
       "28240  Zimbabwe  Sweet potatoes  2013        22222   \n",
       "28241  Zimbabwe           Wheat  2013        22888   \n",
       "\n",
       "       average_rain_fall_mm_per_year  pesticides_tonnes  avg_temp  \n",
       "0                             1485.0             121.00     16.37  \n",
       "1                             1485.0             121.00     16.37  \n",
       "2                             1485.0             121.00     16.37  \n",
       "3                             1485.0             121.00     16.37  \n",
       "4                             1485.0             121.00     16.37  \n",
       "...                              ...                ...       ...  \n",
       "28237                          657.0            2550.07     19.76  \n",
       "28238                          657.0            2550.07     19.76  \n",
       "28239                          657.0            2550.07     19.76  \n",
       "28240                          657.0            2550.07     19.76  \n",
       "28241                          657.0            2550.07     19.76  \n",
       "\n",
       "[25932 rows x 7 columns]"
      ]
     },
     "execution_count": 46,
     "metadata": {},
     "output_type": "execute_result"
    }
   ],
   "source": [
    "df"
   ]
  },
  {
   "cell_type": "code",
   "execution_count": 47,
   "id": "7c020fd5-7cd5-48d0-a453-2b0a51715740",
   "metadata": {},
   "outputs": [],
   "source": [
    "df['average_rain_fall_mm_per_year'] = df['average_rain_fall_mm_per_year'].astype(np.float64)"
   ]
  },
  {
   "cell_type": "code",
   "execution_count": 48,
   "id": "8e2561bd-6e99-4f0e-af15-8c84f11a7dad",
   "metadata": {},
   "outputs": [
    {
     "name": "stdout",
     "output_type": "stream",
     "text": [
      "       Year  average_rain_fall_mm_per_year  pesticides_tonnes  avg_temp  \\\n",
      "0      1990                         1485.0             121.00     16.37   \n",
      "1      1990                         1485.0             121.00     16.37   \n",
      "2      1990                         1485.0             121.00     16.37   \n",
      "3      1990                         1485.0             121.00     16.37   \n",
      "4      1990                         1485.0             121.00     16.37   \n",
      "...     ...                            ...                ...       ...   \n",
      "28237  2013                          657.0            2550.07     19.76   \n",
      "28238  2013                          657.0            2550.07     19.76   \n",
      "28239  2013                          657.0            2550.07     19.76   \n",
      "28240  2013                          657.0            2550.07     19.76   \n",
      "28241  2013                          657.0            2550.07     19.76   \n",
      "\n",
      "           Area            Item  \n",
      "0       Albania           Maize  \n",
      "1       Albania        Potatoes  \n",
      "2       Albania     Rice, paddy  \n",
      "3       Albania         Sorghum  \n",
      "4       Albania        Soybeans  \n",
      "...         ...             ...  \n",
      "28237  Zimbabwe     Rice, paddy  \n",
      "28238  Zimbabwe         Sorghum  \n",
      "28239  Zimbabwe        Soybeans  \n",
      "28240  Zimbabwe  Sweet potatoes  \n",
      "28241  Zimbabwe           Wheat  \n",
      "\n",
      "[25932 rows x 6 columns]\n",
      "0        36613\n",
      "1        66667\n",
      "2        23333\n",
      "3        12500\n",
      "4         7000\n",
      "         ...  \n",
      "28237    22581\n",
      "28238     3066\n",
      "28239    13142\n",
      "28240    22222\n",
      "28241    22888\n",
      "Name: hg/ha_yield, Length: 25932, dtype: int64\n"
     ]
    }
   ],
   "source": [
    "col = ['Year', 'average_rain_fall_mm_per_year','pesticides_tonnes', 'avg_temp', 'Area', 'Item', 'hg/ha_yield']\n",
    "df = df[col]\n",
    "X = df.iloc[:, :-1]\n",
    "y = df.iloc[:, -1]\n",
    "print(X)\n",
    "print(y)"
   ]
  },
  {
   "cell_type": "code",
   "execution_count": 49,
   "id": "23430b7b-f34d-4f9f-af67-c850b531e8e9",
   "metadata": {},
   "outputs": [
    {
     "data": {
      "text/html": [
       "<div>\n",
       "<style scoped>\n",
       "    .dataframe tbody tr th:only-of-type {\n",
       "        vertical-align: middle;\n",
       "    }\n",
       "\n",
       "    .dataframe tbody tr th {\n",
       "        vertical-align: top;\n",
       "    }\n",
       "\n",
       "    .dataframe thead th {\n",
       "        text-align: right;\n",
       "    }\n",
       "</style>\n",
       "<table border=\"1\" class=\"dataframe\">\n",
       "  <thead>\n",
       "    <tr style=\"text-align: right;\">\n",
       "      <th></th>\n",
       "      <th>Year</th>\n",
       "      <th>average_rain_fall_mm_per_year</th>\n",
       "      <th>pesticides_tonnes</th>\n",
       "      <th>avg_temp</th>\n",
       "      <th>Area</th>\n",
       "      <th>Item</th>\n",
       "      <th>hg/ha_yield</th>\n",
       "    </tr>\n",
       "  </thead>\n",
       "  <tbody>\n",
       "    <tr>\n",
       "      <th>0</th>\n",
       "      <td>1990</td>\n",
       "      <td>1485.0</td>\n",
       "      <td>121.00</td>\n",
       "      <td>16.37</td>\n",
       "      <td>Albania</td>\n",
       "      <td>Maize</td>\n",
       "      <td>36613</td>\n",
       "    </tr>\n",
       "    <tr>\n",
       "      <th>1</th>\n",
       "      <td>1990</td>\n",
       "      <td>1485.0</td>\n",
       "      <td>121.00</td>\n",
       "      <td>16.37</td>\n",
       "      <td>Albania</td>\n",
       "      <td>Potatoes</td>\n",
       "      <td>66667</td>\n",
       "    </tr>\n",
       "    <tr>\n",
       "      <th>2</th>\n",
       "      <td>1990</td>\n",
       "      <td>1485.0</td>\n",
       "      <td>121.00</td>\n",
       "      <td>16.37</td>\n",
       "      <td>Albania</td>\n",
       "      <td>Rice, paddy</td>\n",
       "      <td>23333</td>\n",
       "    </tr>\n",
       "    <tr>\n",
       "      <th>3</th>\n",
       "      <td>1990</td>\n",
       "      <td>1485.0</td>\n",
       "      <td>121.00</td>\n",
       "      <td>16.37</td>\n",
       "      <td>Albania</td>\n",
       "      <td>Sorghum</td>\n",
       "      <td>12500</td>\n",
       "    </tr>\n",
       "    <tr>\n",
       "      <th>4</th>\n",
       "      <td>1990</td>\n",
       "      <td>1485.0</td>\n",
       "      <td>121.00</td>\n",
       "      <td>16.37</td>\n",
       "      <td>Albania</td>\n",
       "      <td>Soybeans</td>\n",
       "      <td>7000</td>\n",
       "    </tr>\n",
       "    <tr>\n",
       "      <th>...</th>\n",
       "      <td>...</td>\n",
       "      <td>...</td>\n",
       "      <td>...</td>\n",
       "      <td>...</td>\n",
       "      <td>...</td>\n",
       "      <td>...</td>\n",
       "      <td>...</td>\n",
       "    </tr>\n",
       "    <tr>\n",
       "      <th>28237</th>\n",
       "      <td>2013</td>\n",
       "      <td>657.0</td>\n",
       "      <td>2550.07</td>\n",
       "      <td>19.76</td>\n",
       "      <td>Zimbabwe</td>\n",
       "      <td>Rice, paddy</td>\n",
       "      <td>22581</td>\n",
       "    </tr>\n",
       "    <tr>\n",
       "      <th>28238</th>\n",
       "      <td>2013</td>\n",
       "      <td>657.0</td>\n",
       "      <td>2550.07</td>\n",
       "      <td>19.76</td>\n",
       "      <td>Zimbabwe</td>\n",
       "      <td>Sorghum</td>\n",
       "      <td>3066</td>\n",
       "    </tr>\n",
       "    <tr>\n",
       "      <th>28239</th>\n",
       "      <td>2013</td>\n",
       "      <td>657.0</td>\n",
       "      <td>2550.07</td>\n",
       "      <td>19.76</td>\n",
       "      <td>Zimbabwe</td>\n",
       "      <td>Soybeans</td>\n",
       "      <td>13142</td>\n",
       "    </tr>\n",
       "    <tr>\n",
       "      <th>28240</th>\n",
       "      <td>2013</td>\n",
       "      <td>657.0</td>\n",
       "      <td>2550.07</td>\n",
       "      <td>19.76</td>\n",
       "      <td>Zimbabwe</td>\n",
       "      <td>Sweet potatoes</td>\n",
       "      <td>22222</td>\n",
       "    </tr>\n",
       "    <tr>\n",
       "      <th>28241</th>\n",
       "      <td>2013</td>\n",
       "      <td>657.0</td>\n",
       "      <td>2550.07</td>\n",
       "      <td>19.76</td>\n",
       "      <td>Zimbabwe</td>\n",
       "      <td>Wheat</td>\n",
       "      <td>22888</td>\n",
       "    </tr>\n",
       "  </tbody>\n",
       "</table>\n",
       "<p>25932 rows × 7 columns</p>\n",
       "</div>"
      ],
      "text/plain": [
       "       Year  average_rain_fall_mm_per_year  pesticides_tonnes  avg_temp  \\\n",
       "0      1990                         1485.0             121.00     16.37   \n",
       "1      1990                         1485.0             121.00     16.37   \n",
       "2      1990                         1485.0             121.00     16.37   \n",
       "3      1990                         1485.0             121.00     16.37   \n",
       "4      1990                         1485.0             121.00     16.37   \n",
       "...     ...                            ...                ...       ...   \n",
       "28237  2013                          657.0            2550.07     19.76   \n",
       "28238  2013                          657.0            2550.07     19.76   \n",
       "28239  2013                          657.0            2550.07     19.76   \n",
       "28240  2013                          657.0            2550.07     19.76   \n",
       "28241  2013                          657.0            2550.07     19.76   \n",
       "\n",
       "           Area            Item  hg/ha_yield  \n",
       "0       Albania           Maize        36613  \n",
       "1       Albania        Potatoes        66667  \n",
       "2       Albania     Rice, paddy        23333  \n",
       "3       Albania         Sorghum        12500  \n",
       "4       Albania        Soybeans         7000  \n",
       "...         ...             ...          ...  \n",
       "28237  Zimbabwe     Rice, paddy        22581  \n",
       "28238  Zimbabwe         Sorghum         3066  \n",
       "28239  Zimbabwe        Soybeans        13142  \n",
       "28240  Zimbabwe  Sweet potatoes        22222  \n",
       "28241  Zimbabwe           Wheat        22888  \n",
       "\n",
       "[25932 rows x 7 columns]"
      ]
     },
     "execution_count": 49,
     "metadata": {},
     "output_type": "execute_result"
    }
   ],
   "source": [
    "df"
   ]
  },
  {
   "cell_type": "markdown",
   "id": "c4554a89-6a91-442f-a4c0-640db56bcf72",
   "metadata": {},
   "source": [
    "Data PreProcessing"
   ]
  },
  {
   "cell_type": "code",
   "execution_count": 81,
   "id": "c620d4fa-29ff-49fc-ae0e-2228bdf7e228",
   "metadata": {},
   "outputs": [],
   "source": [
    "from sklearn.preprocessing import OneHotEncoder\n",
    "from sklearn.compose import ColumnTransformer\n",
    "from sklearn.preprocessing import StandardScaler\n",
    "ohe = OneHotEncoder(drop='first')\n",
    "scale = StandardScaler()\n",
    "\n",
    "preprocesser = ColumnTransformer(\n",
    "        transformers = [\n",
    "            ('StandardScaler', scale, [0, 1, 2, 3]),\n",
    "            ('OHE', ohe, [4, 5]),\n",
    "        ],\n",
    "        remainder='passthrough'\n",
    ")\n",
    "\n",
    "\n",
    "datacorr = df.copy()\n",
    "# from sklearn.preprocessing import OneHotEncoder\n",
    "# categorical_columns = datacorr.select_dtypes(include=['object']).columns.tolist()\n",
    "\n",
    "# # Initialize OneHotEncoder\n",
    "# ohe = OneHotEncoder(handle_unknown='ignore', sparse_output=False)\n",
    "\n",
    "# # Fit on training data\n",
    "# encoded_cats = ohe.fit_transform(datacorr[categorical_columns])\n",
    "\n",
    "# # Convert to DataFrame\n",
    "# encoded_cat_df = pd.DataFrame(encoded_cats, columns=ohe.get_feature_names_out(categorical_columns))\n",
    "\n",
    "# # Drop original categorical columns and concatenate encoded columns\n",
    "# datacorr = datacorr.drop(columns=categorical_columns).reset_index(drop=True)\n",
    "# datacorr = pd.concat([datacorr, encoded_cat_df], axis=1)\n",
    "\n",
    "# print(datacorr.head())  # Check tra1nsformed data"
   ]
  },
  {
   "cell_type": "code",
   "execution_count": null,
   "id": "74b73d14-c40d-469e-beb7-5481ba3b3e89",
   "metadata": {},
   "outputs": [],
   "source": []
  },
  {
   "cell_type": "code",
   "execution_count": 82,
   "id": "f238e46e-9195-4a15-81b5-a3da9af49acc",
   "metadata": {},
   "outputs": [],
   "source": [
    "from sklearn.model_selection import train_test_split"
   ]
  },
  {
   "cell_type": "code",
   "execution_count": 83,
   "id": "bc96d16d-cee9-4b70-86bb-339fd236af5a",
   "metadata": {},
   "outputs": [],
   "source": [
    "# X, y = datacorr.drop(labels='hg/ha_yield', axis=1), datacorr['hg/ha_yield']"
   ]
  },
  {
   "cell_type": "code",
   "execution_count": 84,
   "id": "338c8cbf-be84-43ec-9f89-d8a742189061",
   "metadata": {},
   "outputs": [],
   "source": [
    "X_train, X_test, y_train, y_test = train_test_split(X,y,test_size=0.2, random_state=42)"
   ]
  },
  {
   "cell_type": "code",
   "execution_count": 85,
   "id": "572275a2-67c1-47d7-9318-634b23889170",
   "metadata": {},
   "outputs": [],
   "source": [
    "X_train_dummy = preprocesser.fit_transform(X_train)\n",
    "X_test_dummy = preprocesser.transform(X_test)"
   ]
  },
  {
   "cell_type": "code",
   "execution_count": 86,
   "id": "ce9ebc68-4669-42f5-b4eb-b0afc194b6de",
   "metadata": {},
   "outputs": [
    {
     "data": {
      "text/plain": [
       "['preprocessor.pkl']"
      ]
     },
     "execution_count": 86,
     "metadata": {},
     "output_type": "execute_result"
    }
   ],
   "source": [
    "joblib.dump(preprocesser,\"preprocessor.pkl\")"
   ]
  },
  {
   "cell_type": "code",
   "execution_count": null,
   "id": "b48a60bb-a28d-4668-abbd-5f2abb1a06ff",
   "metadata": {},
   "outputs": [],
   "source": []
  },
  {
   "cell_type": "code",
   "execution_count": null,
   "id": "a70c3619-2b1e-4174-a3b0-3c5fa7d9b6b5",
   "metadata": {},
   "outputs": [],
   "source": []
  },
  {
   "cell_type": "markdown",
   "id": "574a5054-b1bb-4173-b112-4752a4021bfe",
   "metadata": {},
   "source": [
    "Model Training and Evaluation"
   ]
  },
  {
   "cell_type": "code",
   "execution_count": 57,
   "id": "d9ba47fe-cdcf-4742-9493-190407ba0352",
   "metadata": {},
   "outputs": [],
   "source": [
    "from sklearn.linear_model import LinearRegression\n",
    "from sklearn.ensemble import RandomForestRegressor\n",
    "from xgboost import XGBRegressor\n",
    "from sklearn.metrics import mean_squared_error, r2_score, mean_absolute_error, mean_absolute_percentage_error\n",
    "\n",
    "import joblib\n",
    "from sklearn.tree import DecisionTreeRegressor"
   ]
  },
  {
   "cell_type": "code",
   "execution_count": null,
   "id": "28539081-61db-4f39-9e75-710148ade05b",
   "metadata": {},
   "outputs": [],
   "source": []
  },
  {
   "cell_type": "code",
   "execution_count": null,
   "id": "984d06c6-9192-4c24-8c7c-3ba6c62e4b68",
   "metadata": {},
   "outputs": [],
   "source": []
  },
  {
   "cell_type": "code",
   "execution_count": 58,
   "id": "8597eb4e-1ba5-41f3-8258-6938c7cb2aa5",
   "metadata": {},
   "outputs": [
    {
     "name": "stdout",
     "output_type": "stream",
     "text": [
      "The accuracy of the LinearRegresssion Model Train is 75.14\n",
      "The accuracy of the  LinearRegresssion Model Test is 74.87\n",
      "Model LinearRegresssion saved as LinearRegresssion_model.pkl\n"
     ]
    },
    {
     "data": {
      "image/png": "[encoded data removed]",
      "text/plain": [
       "<Figure size 640x480 with 1 Axes>"
      ]
     },
     "metadata": {},
     "output_type": "display_data"
    },
    {
     "name": "stdout",
     "output_type": "stream",
     "text": [
      "The accuracy of the DecisionTree Model Train is 91.66\n",
      "The accuracy of the  DecisionTree Model Test is 90.91\n",
      "Model DecisionTree saved as DecisionTree_model.pkl\n"
     ]
    },
    {
     "data": {
      "image/png": "[encoded data removed]",
      "text/plain": [
       "<Figure size 640x480 with 1 Axes>"
      ]
     },
     "metadata": {},
     "output_type": "display_data"
    },
    {
     "name": "stdout",
     "output_type": "stream",
     "text": [
      "The accuracy of the RandomForest Model Train is 93.59\n",
      "The accuracy of the  RandomForest Model Test is 92.21\n",
      "Model RandomForest saved as RandomForest_model.pkl\n"
     ]
    },
    {
     "data": {
      "image/png": "[encoded data removed]",
      "text/plain": [
       "<Figure size 640x480 with 1 Axes>"
      ]
     },
     "metadata": {},
     "output_type": "display_data"
    },
    {
     "name": "stdout",
     "output_type": "stream",
     "text": [
      "The accuracy of the XGBoost Model Train is 97.84\n",
      "The accuracy of the  XGBoost Model Test is 96.61\n",
      "Model XGBoost saved as XGBoost_model.pkl\n"
     ]
    },
    {
     "data": {
      "image/png": "[encoded data removed]",
      "text/plain": [
       "<Figure size 640x480 with 1 Axes>"
      ]
     },
     "metadata": {},
     "output_type": "display_data"
    },
    {
     "data": {
      "text/html": [
       "<style type=\"text/css\">\n",
       "#T_cb932_row0_col1, #T_cb932_row0_col2, #T_cb932_row0_col3 {\n",
       "  background-color: red;\n",
       "}\n",
       "#T_cb932_row3_col1, #T_cb932_row3_col2, #T_cb932_row3_col3 {\n",
       "  background-color: green;\n",
       "}\n",
       "</style>\n",
       "<table id=\"T_cb932\">\n",
       "  <thead>\n",
       "    <tr>\n",
       "      <th class=\"blank level0\" >&nbsp;</th>\n",
       "      <th id=\"T_cb932_level0_col0\" class=\"col_heading level0 col0\" >Model</th>\n",
       "      <th id=\"T_cb932_level0_col1\" class=\"col_heading level0 col1\" >Accuracy</th>\n",
       "      <th id=\"T_cb932_level0_col2\" class=\"col_heading level0 col2\" >MSE</th>\n",
       "      <th id=\"T_cb932_level0_col3\" class=\"col_heading level0 col3\" >R2_score</th>\n",
       "    </tr>\n",
       "  </thead>\n",
       "  <tbody>\n",
       "    <tr>\n",
       "      <th id=\"T_cb932_level0_row0\" class=\"row_heading level0 row0\" >0</th>\n",
       "      <td id=\"T_cb932_row0_col0\" class=\"data row0 col0\" >LinearRegresssion</td>\n",
       "      <td id=\"T_cb932_row0_col1\" class=\"data row0 col1\" >0.748657</td>\n",
       "      <td id=\"T_cb932_row0_col2\" class=\"data row0 col2\" >1821709127.837833</td>\n",
       "      <td id=\"T_cb932_row0_col3\" class=\"data row0 col3\" >0.748657</td>\n",
       "    </tr>\n",
       "    <tr>\n",
       "      <th id=\"T_cb932_level0_row1\" class=\"row_heading level0 row1\" >1</th>\n",
       "      <td id=\"T_cb932_row1_col0\" class=\"data row1 col0\" >DecisionTree</td>\n",
       "      <td id=\"T_cb932_row1_col1\" class=\"data row1 col1\" >0.909111</td>\n",
       "      <td id=\"T_cb932_row1_col2\" class=\"data row1 col2\" >658756360.330744</td>\n",
       "      <td id=\"T_cb932_row1_col3\" class=\"data row1 col3\" >0.909111</td>\n",
       "    </tr>\n",
       "    <tr>\n",
       "      <th id=\"T_cb932_level0_row2\" class=\"row_heading level0 row2\" >2</th>\n",
       "      <td id=\"T_cb932_row2_col0\" class=\"data row2 col0\" >RandomForest</td>\n",
       "      <td id=\"T_cb932_row2_col1\" class=\"data row2 col1\" >0.922098</td>\n",
       "      <td id=\"T_cb932_row2_col2\" class=\"data row2 col2\" >564624906.678257</td>\n",
       "      <td id=\"T_cb932_row2_col3\" class=\"data row2 col3\" >0.922098</td>\n",
       "    </tr>\n",
       "    <tr>\n",
       "      <th id=\"T_cb932_level0_row3\" class=\"row_heading level0 row3\" >3</th>\n",
       "      <td id=\"T_cb932_row3_col0\" class=\"data row3 col0\" >XGBoost</td>\n",
       "      <td id=\"T_cb932_row3_col1\" class=\"data row3 col1\" >0.966087</td>\n",
       "      <td id=\"T_cb932_row3_col2\" class=\"data row3 col2\" >245799122.985814</td>\n",
       "      <td id=\"T_cb932_row3_col3\" class=\"data row3 col3\" >0.966087</td>\n",
       "    </tr>\n",
       "  </tbody>\n",
       "</table>\n"
      ],
      "text/plain": [
       "<pandas.io.formats.style.Styler at 0x2c6eb237c50>"
      ]
     },
     "metadata": {},
     "output_type": "display_data"
    }
   ],
   "source": [
    "results = []\n",
    "models = [\n",
    "    ('LinearRegresssion', LinearRegression()),\n",
    "    ('DecisionTree', DecisionTreeRegressor(max_depth=10,random_state=42)),\n",
    "    ('RandomForest', RandomForestRegressor(max_depth=10,random_state=42)),\n",
    "    ('XGBoost', XGBRegressor(random_state=42))\n",
    "]\n",
    "\n",
    "for name, model in models:\n",
    "    model.fit(X_train_dummy, y_train)\n",
    "    y_pred = model.predict(X_test_dummy)\n",
    "    accuracy = model.score(X_test_dummy, y_test)\n",
    "    MSE = mean_squared_error(y_test, y_pred)\n",
    "    R2_score = r2_score(y_test,y_pred)\n",
    "    results.append((name,accuracy,MSE,R2_score))\n",
    "    acc = (model.score(X_train_dummy,y_train))*100\n",
    "    print(f'The accuracy of the {name} Model Train is {acc:.2f}')\n",
    "    acc =(model.score(X_test_dummy , y_test)*100)\n",
    "    print(f'The accuracy of the  {name} Model Test is {acc:.2f}')  \n",
    "    #saving the trained mmodel\n",
    "    joblib.dump(model, f\"{name}_model.pkl\")\n",
    "    print(f\"Model {name} saved as {name}_model.pkl\")\n",
    "    plt.scatter(y_test, y_pred,s=10,color='#9B673C')\n",
    "    plt.xlabel('Actual Values')\n",
    "    plt.ylabel('Predicted Values')\n",
    "    #plt.title(f' {name} Evaluation')\n",
    "    plt.plot([min(y_test), max(y_test)], [min(y_test), max(y_test)], color='green', linewidth = 4)\n",
    "    plt.show()\n",
    "\n",
    "\n",
    "\n",
    "dff = pd.DataFrame(results, columns=['Model', 'Accuracy', 'MSE', 'R2_score'])\n",
    "df_styled_best = dff.style.highlight_max(subset=['Accuracy','R2_score'], color='green').highlight_min(subset=['MSE'], color='green').highlight_max(subset=['MSE'], color='red').highlight_min(subset=['Accuracy','R2_score'], color='red')\n",
    "\n",
    "# df_styled_worst = dff.style.highlight_max(subset=['MSE'], color='red').highlight_min(subset=['Accuracy','R2_score'], color='red')\n",
    "\n",
    "display(df_styled_best)\n",
    "# display(df_styled_worst)"
   ]
  },
  {
   "cell_type": "markdown",
   "id": "0e3c16b9-a160-428f-b3fd-0282bc811f4d",
   "metadata": {},
   "source": [
    "Hybrid Model\n"
   ]
  },
  {
   "cell_type": "code",
   "execution_count": 59,
   "id": "e671e516-ebf7-4db5-b757-391613ff60ea",
   "metadata": {},
   "outputs": [],
   "source": [
    "#Taking DT, RF and XGBoost for hybrid ml model"
   ]
  },
  {
   "cell_type": "code",
   "execution_count": 60,
   "id": "c677bb53-5e13-4b28-85f1-55a0db92b713",
   "metadata": {},
   "outputs": [],
   "source": [
    "dt_model = joblib.load(\"DecisionTree_model.pkl\")\n",
    "rf_model = joblib.load(\"RandomForest_model.pkl\")\n",
    "xgb_model = joblib.load(\"XGBoost_model.pkl\")"
   ]
  },
  {
   "cell_type": "code",
   "execution_count": 61,
   "id": "1b3d9eec-c279-47d7-a659-1ebb99d8528c",
   "metadata": {},
   "outputs": [],
   "source": [
    "y_pred_dt = dt_model.predict(X_test_dummy)\n",
    "y_pred_rf = rf_model.predict(X_test_dummy)\n",
    "y_pred_xgb = xgb_model.predict(X_test_dummy)"
   ]
  },
  {
   "cell_type": "code",
   "execution_count": 62,
   "id": "313d2edf-fadf-4ebb-934c-43ade948c5ab",
   "metadata": {},
   "outputs": [
    {
     "name": "stdout",
     "output_type": "stream",
     "text": [
      "Model saved successfully\n"
     ]
    }
   ],
   "source": [
    "# # Calculate MSE for each model\n",
    "# mse_dt = mean_squared_error(y_test, y_pred_dt)\n",
    "# mse_rf = mean_squared_error(y_test, y_pred_rf)\n",
    "# mse_xgb = mean_squared_error(y_test, y_pred_xgb)\n",
    "\n",
    "# # Assign weights (inverse of MSE)\n",
    "# w1 = 1 / mse_dt\n",
    "# w2 = 1 / mse_rf\n",
    "# w3 = 1 / mse_xgb\n",
    "\n",
    "# # Normalize weights\n",
    "# w_total = w1 + w2 + w3\n",
    "# w1, w2, w3 = w1 / w_total, w2 / w_total, w3 / w_total\n",
    "\n",
    "# # Compute hybrid prediction\n",
    "# hybrid_pred = (w1 * y_pred_dt + w2 * y_pred_rf + w3 * y_pred_xgb)\n",
    "\n",
    "from sklearn.ensemble import StackingRegressor\n",
    "base_models = [\n",
    "    # ('lr', LinearRegression()),  # Score: 0.748657\n",
    "    ('dt', DecisionTreeRegressor(max_depth=10, random_state=42)),  # Score: 0.9091111\n",
    "    ('rf', RandomForestRegressor(n_estimators=100, random_state=42)),  # Score: 0.922098\n",
    "]\n",
    "\n",
    "# Define meta-model (XGBoost because it has the highest score)\n",
    "meta_model = XGBRegressor(n_estimators=100, random_state=42)\n",
    "\n",
    "# Create Stacking Regressor\n",
    "stacking_model = StackingRegressor(estimators=base_models, final_estimator=meta_model, cv=5)\n",
    "\n",
    "# Train the stacking model\n",
    "stacking_model.fit(X_train_dummy, y_train)\n",
    "\n",
    "#Saving the hybrid model\n",
    "joblib.dump(stacking_model,\"Hybrid_model.pkl\")\n",
    "print(\"Model saved successfully\")\n",
    "# Make predictions\n",
    "y_pred_hybrid = stacking_model.predict(X_test_dummy)"
   ]
  },
  {
   "cell_type": "code",
   "execution_count": 68,
   "id": "c96aec8a-d50e-4e02-9cbd-b6d88cc47aa9",
   "metadata": {},
   "outputs": [
    {
     "name": "stdout",
     "output_type": "stream",
     "text": [
      "Hybrid Model MSE: 126610458.5611\n",
      "Hybrid Model R² Score: 0.9825\n"
     ]
    },
    {
     "data": {
      "image/png": "[encoded data removed]",
      "text/plain": [
       "<Figure size 640x480 with 1 Axes>"
      ]
     },
     "metadata": {},
     "output_type": "display_data"
    }
   ],
   "source": [
    "mse = mean_squared_error(y_test,y_pred_hybrid)\n",
    "r2 = r2_score(y_test, y_pred_hybrid)\n",
    "\n",
    "print(f\"Hybrid Model MSE: {mse:.4f}\")\n",
    "print(f\"Hybrid Model R² Score: {r2:.4f}\")\n",
    "\n",
    "plt.scatter(y_test, y_pred,s=10,color='#9B673C')\n",
    "plt.xlabel('Actual Values')\n",
    "plt.ylabel('Predicted Values')\n",
    "#plt.title(f' {name} Evaluation')\n",
    "plt.plot([min(y_test), max(y_test)], [min(y_test), max(y_test)], color='green', linewidth = 4)\n",
    "plt.show()"
   ]
  },
  {
   "cell_type": "code",
   "execution_count": 64,
   "id": "df6a7ff9-046d-4c83-908a-b6d617dd6f6d",
   "metadata": {},
   "outputs": [],
   "source": [
    "#testing the model for new data\n",
    "\n",
    "# new_data = {'Year': [2000], 'average_rain_fall_mm_per_year': [1485.0], \n",
    "#             'pesticides_tonnes': [121.00], 'avg_temp': [16.37], \n",
    "#             'Area': ['Albania'], 'Item': ['Maize']}\n",
    "\n",
    "# new_df = pd.DataFrame(new_data)\n",
    "\n",
    "# # Apply One-Hot Encoding\n",
    "# encoded_new_cats = ohe.transform(new_df[categorical_columns])\n",
    "# encoded_new_df = pd.DataFrame(encoded_new_cats, columns=ohe.get_feature_names_out(categorical_columns))\n",
    "\n",
    "# # Drop original categorical columns and concatenate encoded columns\n",
    "# new_df = new_df.drop(columns=categorical_columns).reset_index(drop=True)\n",
    "# new_df = pd.concat([new_df, encoded_new_df], axis=1)\n",
    "\n",
    "# print(new_df) \n"
   ]
  },
  {
   "cell_type": "code",
   "execution_count": 65,
   "id": "4378dc35-e4d9-4d74-a4f1-50b5d38924f6",
   "metadata": {},
   "outputs": [],
   "source": [
    "\n",
    "#Predict with trained models\n",
    "# new_pred_dt = dt_model.predict(new_df)\n",
    "# new_pred_rf = rf_model.predict(new_df)\n",
    "# new_pred_xgb = xgb_model.predict(new_df)\n",
    "\n",
    "# print(\"Decision Tree Prediction:\", new_pred_dt)\n",
    "# print(\"Random Forest Prediction:\", new_pred_rf)\n",
    "# print(\"XGBoost Prediction:\", new_pred_xgb)"
   ]
  },
  {
   "cell_type": "code",
   "execution_count": 66,
   "id": "adcb9c3c-27fe-49fd-a174-c51619758946",
   "metadata": {},
   "outputs": [],
   "source": [
    "# new_hybrid_pred = (new_pred_dt+new_pred_rf+new_pred_xgb)/3"
   ]
  },
  {
   "cell_type": "code",
   "execution_count": 67,
   "id": "c9f87e62-333f-451d-9bfd-e5fb2af82d7d",
   "metadata": {},
   "outputs": [],
   "source": [
    "# print(hybrid_pred)\n",
    "# actual = [36613]"
   ]
  },
  {
   "cell_type": "code",
   "execution_count": null,
   "id": "6167ffb9-9b8e-4551-8bba-4a665d544c62",
   "metadata": {},
   "outputs": [],
   "source": []
  },
  {
   "cell_type": "code",
   "execution_count": null,
   "id": "2bcdbfdc-8830-49a6-ab23-65bae212659a",
   "metadata": {},
   "outputs": [],
   "source": []
  },
  {
   "cell_type": "code",
   "execution_count": null,
   "id": "0a5fa8fe-61af-407c-b3fe-afbce07c0152",
   "metadata": {},
   "outputs": [],
   "source": []
  },
  {
   "cell_type": "code",
   "execution_count": null,
   "id": "727d41d9-2380-462f-8c0c-23c01cddf7a4",
   "metadata": {},
   "outputs": [],
   "source": []
  },
  {
   "cell_type": "code",
   "execution_count": null,
   "id": "8259408b-e62b-4189-b7db-84d0557803ce",
   "metadata": {},
   "outputs": [],
   "source": []
  },
  {
   "cell_type": "code",
   "execution_count": null,
   "id": "c9c7f209-6f38-439b-9d5a-0017699e63e9",
   "metadata": {},
   "outputs": [],
   "source": []
  }
 ],
 "metadata": {
  "kernelspec": {
   "display_name": "Python 3 (ipykernel)",
   "language": "python",
   "name": "python3"
  },
  "language_info": {
   "codemirror_mode": {
    "name": "ipython",
    "version": 3
   },
   "file_extension": ".py",
   "mimetype": "text/x-python",
   "name": "python",
   "nbconvert_exporter": "python",
   "pygments_lexer": "ipython3",
   "version": "3.13.0"
  }
 },
 "nbformat": 4,
 "nbformat_minor": 5
}
